{
 "cells": [
  {
   "cell_type": "code",
   "execution_count": 1,
   "metadata": {},
   "outputs": [
    {
     "data": {
      "text/html": [
       "        <script type=\"text/javascript\">\n",
       "        window.PlotlyConfig = {MathJaxConfig: 'local'};\n",
       "        if (window.MathJax) {MathJax.Hub.Config({SVG: {font: \"STIX-Web\"}});}\n",
       "        if (typeof require !== 'undefined') {\n",
       "        require.undef(\"plotly\");\n",
       "        requirejs.config({\n",
       "            paths: {\n",
       "                'plotly': ['https://cdn.plot.ly/plotly-2.9.0.min']\n",
       "            }\n",
       "        });\n",
       "        require(['plotly'], function(Plotly) {\n",
       "            window._Plotly = Plotly;\n",
       "        });\n",
       "        }\n",
       "        </script>\n",
       "        "
      ]
     },
     "metadata": {},
     "output_type": "display_data"
    }
   ],
   "source": [
    "import datetime as dt\n",
    "import pandas as pd\n",
    "import numpy as np\n",
    "import pylab\n",
    "import seaborn as sns\n",
    "import scipy.stats as stats\n",
    "from pandas_datareader import data as pdr\n",
    "import plotly.offline as pyo\n",
    "import plotly.express as px\n",
    "\n",
    "pyo.init_notebook_mode(connected=True)\n",
    "pd.options.plotting.backend= \"plotly\""
   ]
  },
  {
   "cell_type": "code",
   "execution_count": 13,
   "metadata": {},
   "outputs": [],
   "source": [
    "#load data, drop utførtkommentar and set utførtDato as index\n",
    "df = pd.read_excel(r\"C:\\Users\\Line\\OneDrive\\Dokumenter\\Master Business Analytics\\MSc Business Analytics\\01 - Master Thesis\\04-data\\Data til Masteroppgave\\Periodiske.xlsx\")\n",
    "df.drop(columns=[\"utførtKommentar\"],inplace=True)\n",
    "df = df[df[\"utførtDato\"].notna()]\n",
    "df[\"utførtDato\"] = pd.to_datetime(df[\"utførtDato\"])\n",
    "df.set_index(\"utførtDato\",inplace=True)"
   ]
  },
  {
   "cell_type": "code",
   "execution_count": 14,
   "metadata": {},
   "outputs": [
    {
     "data": {
      "text/html": [
       "<div>\n",
       "<style scoped>\n",
       "    .dataframe tbody tr th:only-of-type {\n",
       "        vertical-align: middle;\n",
       "    }\n",
       "\n",
       "    .dataframe tbody tr th {\n",
       "        vertical-align: top;\n",
       "    }\n",
       "\n",
       "    .dataframe thead th {\n",
       "        text-align: right;\n",
       "    }\n",
       "</style>\n",
       "<table border=\"1\" class=\"dataframe\">\n",
       "  <thead>\n",
       "    <tr style=\"text-align: right;\">\n",
       "      <th></th>\n",
       "      <th>gruppe</th>\n",
       "      <th>navn</th>\n",
       "      <th>incidentTitle</th>\n",
       "      <th>idPeriodicTask</th>\n",
       "      <th>planlagDato</th>\n",
       "      <th>utførtAv</th>\n",
       "    </tr>\n",
       "    <tr>\n",
       "      <th>utførtDato</th>\n",
       "      <th></th>\n",
       "      <th></th>\n",
       "      <th></th>\n",
       "      <th></th>\n",
       "      <th></th>\n",
       "      <th></th>\n",
       "    </tr>\n",
       "  </thead>\n",
       "  <tbody>\n",
       "    <tr>\n",
       "      <th>2017-10-12 12:38:00</th>\n",
       "      <td>Maskiner</td>\n",
       "      <td>F1</td>\n",
       "      <td>EPS maskiner månedlig vedlikehold</td>\n",
       "      <td>10</td>\n",
       "      <td>2017-10-12</td>\n",
       "      <td>Donatas Norbutas</td>\n",
       "    </tr>\n",
       "    <tr>\n",
       "      <th>2017-10-11 11:04:00</th>\n",
       "      <td>Maskiner</td>\n",
       "      <td>F1</td>\n",
       "      <td>EPS maskiner ukentlig vedlikehold</td>\n",
       "      <td>11</td>\n",
       "      <td>2017-10-11</td>\n",
       "      <td>Johan Ølstørn</td>\n",
       "    </tr>\n",
       "    <tr>\n",
       "      <th>2017-11-08 11:04:00</th>\n",
       "      <td>Maskiner</td>\n",
       "      <td>F1</td>\n",
       "      <td>EPS maskiner ukentlig vedlikehold</td>\n",
       "      <td>11</td>\n",
       "      <td>2017-11-08</td>\n",
       "      <td>Johan Ølstørn</td>\n",
       "    </tr>\n",
       "    <tr>\n",
       "      <th>2018-01-17 18:50:13</th>\n",
       "      <td>Maskiner</td>\n",
       "      <td>F1</td>\n",
       "      <td>EPS maskiner ukentlig vedlikehold</td>\n",
       "      <td>11</td>\n",
       "      <td>2018-01-10</td>\n",
       "      <td>Johan Ølstørn</td>\n",
       "    </tr>\n",
       "    <tr>\n",
       "      <th>2018-01-26 08:42:56</th>\n",
       "      <td>Maskiner</td>\n",
       "      <td>F1</td>\n",
       "      <td>EPS maskiner ukentlig vedlikehold</td>\n",
       "      <td>11</td>\n",
       "      <td>2018-01-24</td>\n",
       "      <td>Johan Ølstørn</td>\n",
       "    </tr>\n",
       "  </tbody>\n",
       "</table>\n",
       "</div>"
      ],
      "text/plain": [
       "                       gruppe navn                      incidentTitle  \\\n",
       "utførtDato                                                              \n",
       "2017-10-12 12:38:00  Maskiner   F1  EPS maskiner månedlig vedlikehold   \n",
       "2017-10-11 11:04:00  Maskiner   F1  EPS maskiner ukentlig vedlikehold   \n",
       "2017-11-08 11:04:00  Maskiner   F1  EPS maskiner ukentlig vedlikehold   \n",
       "2018-01-17 18:50:13  Maskiner   F1  EPS maskiner ukentlig vedlikehold   \n",
       "2018-01-26 08:42:56  Maskiner   F1  EPS maskiner ukentlig vedlikehold   \n",
       "\n",
       "                     idPeriodicTask planlagDato          utførtAv  \n",
       "utførtDato                                                         \n",
       "2017-10-12 12:38:00              10  2017-10-12  Donatas Norbutas  \n",
       "2017-10-11 11:04:00              11  2017-10-11     Johan Ølstørn  \n",
       "2017-11-08 11:04:00              11  2017-11-08     Johan Ølstørn  \n",
       "2018-01-17 18:50:13              11  2018-01-10     Johan Ølstørn  \n",
       "2018-01-26 08:42:56              11  2018-01-24     Johan Ølstørn  "
      ]
     },
     "execution_count": 14,
     "metadata": {},
     "output_type": "execute_result"
    }
   ],
   "source": [
    "df.head()"
   ]
  },
  {
   "cell_type": "code",
   "execution_count": 15,
   "metadata": {},
   "outputs": [],
   "source": [
    "#drop all rows that are not machines\n",
    "df = df[df[\"gruppe\"] ==\"Maskiner\"]"
   ]
  },
  {
   "cell_type": "code",
   "execution_count": 16,
   "metadata": {},
   "outputs": [
    {
     "data": {
      "text/html": [
       "<div>\n",
       "<style scoped>\n",
       "    .dataframe tbody tr th:only-of-type {\n",
       "        vertical-align: middle;\n",
       "    }\n",
       "\n",
       "    .dataframe tbody tr th {\n",
       "        vertical-align: top;\n",
       "    }\n",
       "\n",
       "    .dataframe thead th {\n",
       "        text-align: right;\n",
       "    }\n",
       "</style>\n",
       "<table border=\"1\" class=\"dataframe\">\n",
       "  <thead>\n",
       "    <tr style=\"text-align: right;\">\n",
       "      <th></th>\n",
       "      <th>gruppe</th>\n",
       "      <th>navn</th>\n",
       "      <th>incidentTitle</th>\n",
       "      <th>idPeriodicTask</th>\n",
       "      <th>planlagDato</th>\n",
       "      <th>utførtAv</th>\n",
       "    </tr>\n",
       "    <tr>\n",
       "      <th>utførtDato</th>\n",
       "      <th></th>\n",
       "      <th></th>\n",
       "      <th></th>\n",
       "      <th></th>\n",
       "      <th></th>\n",
       "      <th></th>\n",
       "    </tr>\n",
       "  </thead>\n",
       "  <tbody>\n",
       "    <tr>\n",
       "      <th>2017-10-12 12:38:00</th>\n",
       "      <td>Maskiner</td>\n",
       "      <td>F1</td>\n",
       "      <td>EPS maskiner månedlig vedlikehold</td>\n",
       "      <td>10</td>\n",
       "      <td>2017-10-12</td>\n",
       "      <td>Donatas Norbutas</td>\n",
       "    </tr>\n",
       "    <tr>\n",
       "      <th>2017-10-11 11:04:00</th>\n",
       "      <td>Maskiner</td>\n",
       "      <td>F1</td>\n",
       "      <td>EPS maskiner ukentlig vedlikehold</td>\n",
       "      <td>11</td>\n",
       "      <td>2017-10-11</td>\n",
       "      <td>Johan Ølstørn</td>\n",
       "    </tr>\n",
       "    <tr>\n",
       "      <th>2017-11-08 11:04:00</th>\n",
       "      <td>Maskiner</td>\n",
       "      <td>F1</td>\n",
       "      <td>EPS maskiner ukentlig vedlikehold</td>\n",
       "      <td>11</td>\n",
       "      <td>2017-11-08</td>\n",
       "      <td>Johan Ølstørn</td>\n",
       "    </tr>\n",
       "    <tr>\n",
       "      <th>2018-01-17 18:50:13</th>\n",
       "      <td>Maskiner</td>\n",
       "      <td>F1</td>\n",
       "      <td>EPS maskiner ukentlig vedlikehold</td>\n",
       "      <td>11</td>\n",
       "      <td>2018-01-10</td>\n",
       "      <td>Johan Ølstørn</td>\n",
       "    </tr>\n",
       "    <tr>\n",
       "      <th>2018-01-26 08:42:56</th>\n",
       "      <td>Maskiner</td>\n",
       "      <td>F1</td>\n",
       "      <td>EPS maskiner ukentlig vedlikehold</td>\n",
       "      <td>11</td>\n",
       "      <td>2018-01-24</td>\n",
       "      <td>Johan Ølstørn</td>\n",
       "    </tr>\n",
       "  </tbody>\n",
       "</table>\n",
       "</div>"
      ],
      "text/plain": [
       "                       gruppe navn                      incidentTitle  \\\n",
       "utførtDato                                                              \n",
       "2017-10-12 12:38:00  Maskiner   F1  EPS maskiner månedlig vedlikehold   \n",
       "2017-10-11 11:04:00  Maskiner   F1  EPS maskiner ukentlig vedlikehold   \n",
       "2017-11-08 11:04:00  Maskiner   F1  EPS maskiner ukentlig vedlikehold   \n",
       "2018-01-17 18:50:13  Maskiner   F1  EPS maskiner ukentlig vedlikehold   \n",
       "2018-01-26 08:42:56  Maskiner   F1  EPS maskiner ukentlig vedlikehold   \n",
       "\n",
       "                     idPeriodicTask planlagDato          utførtAv  \n",
       "utførtDato                                                         \n",
       "2017-10-12 12:38:00              10  2017-10-12  Donatas Norbutas  \n",
       "2017-10-11 11:04:00              11  2017-10-11     Johan Ølstørn  \n",
       "2017-11-08 11:04:00              11  2017-11-08     Johan Ølstørn  \n",
       "2018-01-17 18:50:13              11  2018-01-10     Johan Ølstørn  \n",
       "2018-01-26 08:42:56              11  2018-01-24     Johan Ølstørn  "
      ]
     },
     "execution_count": 16,
     "metadata": {},
     "output_type": "execute_result"
    }
   ],
   "source": [
    "df.head()"
   ]
  },
  {
   "cell_type": "code",
   "execution_count": 17,
   "metadata": {},
   "outputs": [
    {
     "data": {
      "text/plain": [
       "['B1',\n",
       " 'B2',\n",
       " 'B3',\n",
       " 'B4',\n",
       " 'B5',\n",
       " 'B6',\n",
       " 'D1',\n",
       " 'D2',\n",
       " 'D3',\n",
       " 'D4',\n",
       " 'D5',\n",
       " 'E1',\n",
       " 'E2',\n",
       " 'E3',\n",
       " 'E4',\n",
       " 'E5',\n",
       " 'F1',\n",
       " 'F2',\n",
       " 'F3',\n",
       " 'F4',\n",
       " 'F5',\n",
       " 'K1',\n",
       " 'K2',\n",
       " 'K3',\n",
       " 'K4',\n",
       " 'K5',\n",
       " 'K6',\n",
       " 'K8',\n",
       " 'K9',\n",
       " 'K10',\n",
       " 'K11',\n",
       " 'K12',\n",
       " 'K13',\n",
       " 'K14',\n",
       " 'K15',\n",
       " 'K16']"
      ]
     },
     "execution_count": 17,
     "metadata": {},
     "output_type": "execute_result"
    }
   ],
   "source": [
    "B_machines = [\"B1\",\"B2\",\"B3\",\"B4\",\"B5\",\"B6\"]\n",
    "D_machines = [\"D1\",\"D2\",\"D3\",\"D4\",\"D5\"]\n",
    "E_machines = [\"E1\",\"E2\",\"E3\",\"E4\",\"E5\"]\n",
    "F_machines = [\"F1\",\"F2\",\"F3\",\"F4\",\"F5\"]\n",
    "K_machines = [\"K1\",\"K2\",\"K3\",\"K4\",\"K5\",\"K6\",\"K8\",\"K9\",\"K10\",\"K11\",\"K12\",\"K13\",\"K14\",\"K15\",\"K16\"]\n",
    "\n",
    "all_machines = B_machines + D_machines + E_machines + F_machines + K_machines"
   ]
  },
  {
   "cell_type": "code",
   "execution_count": 19,
   "metadata": {},
   "outputs": [],
   "source": [
    "#subset with only production machines\n",
    "\n",
    "df_prod_mach = df[df[\"navn\"].isin(all_machines)]\n"
   ]
  },
  {
   "cell_type": "code",
   "execution_count": 43,
   "metadata": {},
   "outputs": [
    {
     "data": {
      "application/vnd.plotly.v1+json": {
       "config": {
        "plotlyServerURL": "https://plot.ly"
       },
       "data": [
        {
         "alignmentgroup": "True",
         "hovertemplate": "variable=navn<br>index=%{x}<br>value=%{y}<extra></extra>",
         "legendgroup": "navn",
         "marker": {
          "color": "#636efa",
          "pattern": {
           "shape": ""
          }
         },
         "name": "navn",
         "offsetgroup": "navn",
         "orientation": "v",
         "showlegend": true,
         "textposition": "auto",
         "type": "bar",
         "x": [
          "B1",
          "B2",
          "B3",
          "B4",
          "B5",
          "B6",
          "D1",
          "D2",
          "D3",
          "D4",
          "D5",
          "E1",
          "E2",
          "E3",
          "E4",
          "E5",
          "F1",
          "F2",
          "F3",
          "F4",
          "F5",
          "K1",
          "K10",
          "K11",
          "K12",
          "K13",
          "K14",
          "K15",
          "K16",
          "K2",
          "K3",
          "K4",
          "K5",
          "K6",
          "K8",
          "K9"
         ],
         "xaxis": "x",
         "y": [
          28,
          29,
          23,
          24,
          23,
          23,
          23,
          23,
          22,
          24,
          21,
          22,
          21,
          18,
          18,
          18,
          24,
          24,
          22,
          24,
          21,
          23,
          22,
          22,
          20,
          18,
          20,
          19,
          20,
          22,
          29,
          22,
          21,
          22,
          21,
          24
         ],
         "yaxis": "y"
        }
       ],
       "layout": {
        "barmode": "relative",
        "legend": {
         "title": {
          "text": "variable"
         },
         "tracegroupgap": 0
        },
        "margin": {
         "t": 60
        },
        "template": {
         "data": {
          "bar": [
           {
            "error_x": {
             "color": "#2a3f5f"
            },
            "error_y": {
             "color": "#2a3f5f"
            },
            "marker": {
             "line": {
              "color": "#E5ECF6",
              "width": 0.5
             },
             "pattern": {
              "fillmode": "overlay",
              "size": 10,
              "solidity": 0.2
             }
            },
            "type": "bar"
           }
          ],
          "barpolar": [
           {
            "marker": {
             "line": {
              "color": "#E5ECF6",
              "width": 0.5
             },
             "pattern": {
              "fillmode": "overlay",
              "size": 10,
              "solidity": 0.2
             }
            },
            "type": "barpolar"
           }
          ],
          "carpet": [
           {
            "aaxis": {
             "endlinecolor": "#2a3f5f",
             "gridcolor": "white",
             "linecolor": "white",
             "minorgridcolor": "white",
             "startlinecolor": "#2a3f5f"
            },
            "baxis": {
             "endlinecolor": "#2a3f5f",
             "gridcolor": "white",
             "linecolor": "white",
             "minorgridcolor": "white",
             "startlinecolor": "#2a3f5f"
            },
            "type": "carpet"
           }
          ],
          "choropleth": [
           {
            "colorbar": {
             "outlinewidth": 0,
             "ticks": ""
            },
            "type": "choropleth"
           }
          ],
          "contour": [
           {
            "colorbar": {
             "outlinewidth": 0,
             "ticks": ""
            },
            "colorscale": [
             [
              0,
              "#0d0887"
             ],
             [
              0.1111111111111111,
              "#46039f"
             ],
             [
              0.2222222222222222,
              "#7201a8"
             ],
             [
              0.3333333333333333,
              "#9c179e"
             ],
             [
              0.4444444444444444,
              "#bd3786"
             ],
             [
              0.5555555555555556,
              "#d8576b"
             ],
             [
              0.6666666666666666,
              "#ed7953"
             ],
             [
              0.7777777777777778,
              "#fb9f3a"
             ],
             [
              0.8888888888888888,
              "#fdca26"
             ],
             [
              1,
              "#f0f921"
             ]
            ],
            "type": "contour"
           }
          ],
          "contourcarpet": [
           {
            "colorbar": {
             "outlinewidth": 0,
             "ticks": ""
            },
            "type": "contourcarpet"
           }
          ],
          "heatmap": [
           {
            "colorbar": {
             "outlinewidth": 0,
             "ticks": ""
            },
            "colorscale": [
             [
              0,
              "#0d0887"
             ],
             [
              0.1111111111111111,
              "#46039f"
             ],
             [
              0.2222222222222222,
              "#7201a8"
             ],
             [
              0.3333333333333333,
              "#9c179e"
             ],
             [
              0.4444444444444444,
              "#bd3786"
             ],
             [
              0.5555555555555556,
              "#d8576b"
             ],
             [
              0.6666666666666666,
              "#ed7953"
             ],
             [
              0.7777777777777778,
              "#fb9f3a"
             ],
             [
              0.8888888888888888,
              "#fdca26"
             ],
             [
              1,
              "#f0f921"
             ]
            ],
            "type": "heatmap"
           }
          ],
          "heatmapgl": [
           {
            "colorbar": {
             "outlinewidth": 0,
             "ticks": ""
            },
            "colorscale": [
             [
              0,
              "#0d0887"
             ],
             [
              0.1111111111111111,
              "#46039f"
             ],
             [
              0.2222222222222222,
              "#7201a8"
             ],
             [
              0.3333333333333333,
              "#9c179e"
             ],
             [
              0.4444444444444444,
              "#bd3786"
             ],
             [
              0.5555555555555556,
              "#d8576b"
             ],
             [
              0.6666666666666666,
              "#ed7953"
             ],
             [
              0.7777777777777778,
              "#fb9f3a"
             ],
             [
              0.8888888888888888,
              "#fdca26"
             ],
             [
              1,
              "#f0f921"
             ]
            ],
            "type": "heatmapgl"
           }
          ],
          "histogram": [
           {
            "marker": {
             "pattern": {
              "fillmode": "overlay",
              "size": 10,
              "solidity": 0.2
             }
            },
            "type": "histogram"
           }
          ],
          "histogram2d": [
           {
            "colorbar": {
             "outlinewidth": 0,
             "ticks": ""
            },
            "colorscale": [
             [
              0,
              "#0d0887"
             ],
             [
              0.1111111111111111,
              "#46039f"
             ],
             [
              0.2222222222222222,
              "#7201a8"
             ],
             [
              0.3333333333333333,
              "#9c179e"
             ],
             [
              0.4444444444444444,
              "#bd3786"
             ],
             [
              0.5555555555555556,
              "#d8576b"
             ],
             [
              0.6666666666666666,
              "#ed7953"
             ],
             [
              0.7777777777777778,
              "#fb9f3a"
             ],
             [
              0.8888888888888888,
              "#fdca26"
             ],
             [
              1,
              "#f0f921"
             ]
            ],
            "type": "histogram2d"
           }
          ],
          "histogram2dcontour": [
           {
            "colorbar": {
             "outlinewidth": 0,
             "ticks": ""
            },
            "colorscale": [
             [
              0,
              "#0d0887"
             ],
             [
              0.1111111111111111,
              "#46039f"
             ],
             [
              0.2222222222222222,
              "#7201a8"
             ],
             [
              0.3333333333333333,
              "#9c179e"
             ],
             [
              0.4444444444444444,
              "#bd3786"
             ],
             [
              0.5555555555555556,
              "#d8576b"
             ],
             [
              0.6666666666666666,
              "#ed7953"
             ],
             [
              0.7777777777777778,
              "#fb9f3a"
             ],
             [
              0.8888888888888888,
              "#fdca26"
             ],
             [
              1,
              "#f0f921"
             ]
            ],
            "type": "histogram2dcontour"
           }
          ],
          "mesh3d": [
           {
            "colorbar": {
             "outlinewidth": 0,
             "ticks": ""
            },
            "type": "mesh3d"
           }
          ],
          "parcoords": [
           {
            "line": {
             "colorbar": {
              "outlinewidth": 0,
              "ticks": ""
             }
            },
            "type": "parcoords"
           }
          ],
          "pie": [
           {
            "automargin": true,
            "type": "pie"
           }
          ],
          "scatter": [
           {
            "marker": {
             "colorbar": {
              "outlinewidth": 0,
              "ticks": ""
             }
            },
            "type": "scatter"
           }
          ],
          "scatter3d": [
           {
            "line": {
             "colorbar": {
              "outlinewidth": 0,
              "ticks": ""
             }
            },
            "marker": {
             "colorbar": {
              "outlinewidth": 0,
              "ticks": ""
             }
            },
            "type": "scatter3d"
           }
          ],
          "scattercarpet": [
           {
            "marker": {
             "colorbar": {
              "outlinewidth": 0,
              "ticks": ""
             }
            },
            "type": "scattercarpet"
           }
          ],
          "scattergeo": [
           {
            "marker": {
             "colorbar": {
              "outlinewidth": 0,
              "ticks": ""
             }
            },
            "type": "scattergeo"
           }
          ],
          "scattergl": [
           {
            "marker": {
             "colorbar": {
              "outlinewidth": 0,
              "ticks": ""
             }
            },
            "type": "scattergl"
           }
          ],
          "scattermapbox": [
           {
            "marker": {
             "colorbar": {
              "outlinewidth": 0,
              "ticks": ""
             }
            },
            "type": "scattermapbox"
           }
          ],
          "scatterpolar": [
           {
            "marker": {
             "colorbar": {
              "outlinewidth": 0,
              "ticks": ""
             }
            },
            "type": "scatterpolar"
           }
          ],
          "scatterpolargl": [
           {
            "marker": {
             "colorbar": {
              "outlinewidth": 0,
              "ticks": ""
             }
            },
            "type": "scatterpolargl"
           }
          ],
          "scatterternary": [
           {
            "marker": {
             "colorbar": {
              "outlinewidth": 0,
              "ticks": ""
             }
            },
            "type": "scatterternary"
           }
          ],
          "surface": [
           {
            "colorbar": {
             "outlinewidth": 0,
             "ticks": ""
            },
            "colorscale": [
             [
              0,
              "#0d0887"
             ],
             [
              0.1111111111111111,
              "#46039f"
             ],
             [
              0.2222222222222222,
              "#7201a8"
             ],
             [
              0.3333333333333333,
              "#9c179e"
             ],
             [
              0.4444444444444444,
              "#bd3786"
             ],
             [
              0.5555555555555556,
              "#d8576b"
             ],
             [
              0.6666666666666666,
              "#ed7953"
             ],
             [
              0.7777777777777778,
              "#fb9f3a"
             ],
             [
              0.8888888888888888,
              "#fdca26"
             ],
             [
              1,
              "#f0f921"
             ]
            ],
            "type": "surface"
           }
          ],
          "table": [
           {
            "cells": {
             "fill": {
              "color": "#EBF0F8"
             },
             "line": {
              "color": "white"
             }
            },
            "header": {
             "fill": {
              "color": "#C8D4E3"
             },
             "line": {
              "color": "white"
             }
            },
            "type": "table"
           }
          ]
         },
         "layout": {
          "annotationdefaults": {
           "arrowcolor": "#2a3f5f",
           "arrowhead": 0,
           "arrowwidth": 1
          },
          "autotypenumbers": "strict",
          "coloraxis": {
           "colorbar": {
            "outlinewidth": 0,
            "ticks": ""
           }
          },
          "colorscale": {
           "diverging": [
            [
             0,
             "#8e0152"
            ],
            [
             0.1,
             "#c51b7d"
            ],
            [
             0.2,
             "#de77ae"
            ],
            [
             0.3,
             "#f1b6da"
            ],
            [
             0.4,
             "#fde0ef"
            ],
            [
             0.5,
             "#f7f7f7"
            ],
            [
             0.6,
             "#e6f5d0"
            ],
            [
             0.7,
             "#b8e186"
            ],
            [
             0.8,
             "#7fbc41"
            ],
            [
             0.9,
             "#4d9221"
            ],
            [
             1,
             "#276419"
            ]
           ],
           "sequential": [
            [
             0,
             "#0d0887"
            ],
            [
             0.1111111111111111,
             "#46039f"
            ],
            [
             0.2222222222222222,
             "#7201a8"
            ],
            [
             0.3333333333333333,
             "#9c179e"
            ],
            [
             0.4444444444444444,
             "#bd3786"
            ],
            [
             0.5555555555555556,
             "#d8576b"
            ],
            [
             0.6666666666666666,
             "#ed7953"
            ],
            [
             0.7777777777777778,
             "#fb9f3a"
            ],
            [
             0.8888888888888888,
             "#fdca26"
            ],
            [
             1,
             "#f0f921"
            ]
           ],
           "sequentialminus": [
            [
             0,
             "#0d0887"
            ],
            [
             0.1111111111111111,
             "#46039f"
            ],
            [
             0.2222222222222222,
             "#7201a8"
            ],
            [
             0.3333333333333333,
             "#9c179e"
            ],
            [
             0.4444444444444444,
             "#bd3786"
            ],
            [
             0.5555555555555556,
             "#d8576b"
            ],
            [
             0.6666666666666666,
             "#ed7953"
            ],
            [
             0.7777777777777778,
             "#fb9f3a"
            ],
            [
             0.8888888888888888,
             "#fdca26"
            ],
            [
             1,
             "#f0f921"
            ]
           ]
          },
          "colorway": [
           "#636efa",
           "#EF553B",
           "#00cc96",
           "#ab63fa",
           "#FFA15A",
           "#19d3f3",
           "#FF6692",
           "#B6E880",
           "#FF97FF",
           "#FECB52"
          ],
          "font": {
           "color": "#2a3f5f"
          },
          "geo": {
           "bgcolor": "white",
           "lakecolor": "white",
           "landcolor": "#E5ECF6",
           "showlakes": true,
           "showland": true,
           "subunitcolor": "white"
          },
          "hoverlabel": {
           "align": "left"
          },
          "hovermode": "closest",
          "mapbox": {
           "style": "light"
          },
          "paper_bgcolor": "white",
          "plot_bgcolor": "#E5ECF6",
          "polar": {
           "angularaxis": {
            "gridcolor": "white",
            "linecolor": "white",
            "ticks": ""
           },
           "bgcolor": "#E5ECF6",
           "radialaxis": {
            "gridcolor": "white",
            "linecolor": "white",
            "ticks": ""
           }
          },
          "scene": {
           "xaxis": {
            "backgroundcolor": "#E5ECF6",
            "gridcolor": "white",
            "gridwidth": 2,
            "linecolor": "white",
            "showbackground": true,
            "ticks": "",
            "zerolinecolor": "white"
           },
           "yaxis": {
            "backgroundcolor": "#E5ECF6",
            "gridcolor": "white",
            "gridwidth": 2,
            "linecolor": "white",
            "showbackground": true,
            "ticks": "",
            "zerolinecolor": "white"
           },
           "zaxis": {
            "backgroundcolor": "#E5ECF6",
            "gridcolor": "white",
            "gridwidth": 2,
            "linecolor": "white",
            "showbackground": true,
            "ticks": "",
            "zerolinecolor": "white"
           }
          },
          "shapedefaults": {
           "line": {
            "color": "#2a3f5f"
           }
          },
          "ternary": {
           "aaxis": {
            "gridcolor": "white",
            "linecolor": "white",
            "ticks": ""
           },
           "baxis": {
            "gridcolor": "white",
            "linecolor": "white",
            "ticks": ""
           },
           "bgcolor": "#E5ECF6",
           "caxis": {
            "gridcolor": "white",
            "linecolor": "white",
            "ticks": ""
           }
          },
          "title": {
           "x": 0.05
          },
          "xaxis": {
           "automargin": true,
           "gridcolor": "white",
           "linecolor": "white",
           "ticks": "",
           "title": {
            "standoff": 15
           },
           "zerolinecolor": "white",
           "zerolinewidth": 2
          },
          "yaxis": {
           "automargin": true,
           "gridcolor": "white",
           "linecolor": "white",
           "ticks": "",
           "title": {
            "standoff": 15
           },
           "zerolinecolor": "white",
           "zerolinewidth": 2
          }
         }
        },
        "xaxis": {
         "anchor": "y",
         "domain": [
          0,
          1
         ],
         "title": {
          "text": "index"
         }
        },
        "yaxis": {
         "anchor": "x",
         "domain": [
          0,
          1
         ],
         "title": {
          "text": "value"
         }
        }
       }
      },
      "text/html": [
       "<div>                            <div id=\"48baf8ba-05bc-4920-9488-e9f33b8dddb1\" class=\"plotly-graph-div\" style=\"height:525px; width:100%;\"></div>            <script type=\"text/javascript\">                require([\"plotly\"], function(Plotly) {                    window.PLOTLYENV=window.PLOTLYENV || {};                                    if (document.getElementById(\"48baf8ba-05bc-4920-9488-e9f33b8dddb1\")) {                    Plotly.newPlot(                        \"48baf8ba-05bc-4920-9488-e9f33b8dddb1\",                        [{\"alignmentgroup\":\"True\",\"hovertemplate\":\"variable=navn<br>index=%{x}<br>value=%{y}<extra></extra>\",\"legendgroup\":\"navn\",\"marker\":{\"color\":\"#636efa\",\"pattern\":{\"shape\":\"\"}},\"name\":\"navn\",\"offsetgroup\":\"navn\",\"orientation\":\"v\",\"showlegend\":true,\"textposition\":\"auto\",\"x\":[\"B1\",\"B2\",\"B3\",\"B4\",\"B5\",\"B6\",\"D1\",\"D2\",\"D3\",\"D4\",\"D5\",\"E1\",\"E2\",\"E3\",\"E4\",\"E5\",\"F1\",\"F2\",\"F3\",\"F4\",\"F5\",\"K1\",\"K10\",\"K11\",\"K12\",\"K13\",\"K14\",\"K15\",\"K16\",\"K2\",\"K3\",\"K4\",\"K5\",\"K6\",\"K8\",\"K9\"],\"xaxis\":\"x\",\"y\":[28,29,23,24,23,23,23,23,22,24,21,22,21,18,18,18,24,24,22,24,21,23,22,22,20,18,20,19,20,22,29,22,21,22,21,24],\"yaxis\":\"y\",\"type\":\"bar\"}],                        {\"template\":{\"data\":{\"bar\":[{\"error_x\":{\"color\":\"#2a3f5f\"},\"error_y\":{\"color\":\"#2a3f5f\"},\"marker\":{\"line\":{\"color\":\"#E5ECF6\",\"width\":0.5},\"pattern\":{\"fillmode\":\"overlay\",\"size\":10,\"solidity\":0.2}},\"type\":\"bar\"}],\"barpolar\":[{\"marker\":{\"line\":{\"color\":\"#E5ECF6\",\"width\":0.5},\"pattern\":{\"fillmode\":\"overlay\",\"size\":10,\"solidity\":0.2}},\"type\":\"barpolar\"}],\"carpet\":[{\"aaxis\":{\"endlinecolor\":\"#2a3f5f\",\"gridcolor\":\"white\",\"linecolor\":\"white\",\"minorgridcolor\":\"white\",\"startlinecolor\":\"#2a3f5f\"},\"baxis\":{\"endlinecolor\":\"#2a3f5f\",\"gridcolor\":\"white\",\"linecolor\":\"white\",\"minorgridcolor\":\"white\",\"startlinecolor\":\"#2a3f5f\"},\"type\":\"carpet\"}],\"choropleth\":[{\"colorbar\":{\"outlinewidth\":0,\"ticks\":\"\"},\"type\":\"choropleth\"}],\"contour\":[{\"colorbar\":{\"outlinewidth\":0,\"ticks\":\"\"},\"colorscale\":[[0.0,\"#0d0887\"],[0.1111111111111111,\"#46039f\"],[0.2222222222222222,\"#7201a8\"],[0.3333333333333333,\"#9c179e\"],[0.4444444444444444,\"#bd3786\"],[0.5555555555555556,\"#d8576b\"],[0.6666666666666666,\"#ed7953\"],[0.7777777777777778,\"#fb9f3a\"],[0.8888888888888888,\"#fdca26\"],[1.0,\"#f0f921\"]],\"type\":\"contour\"}],\"contourcarpet\":[{\"colorbar\":{\"outlinewidth\":0,\"ticks\":\"\"},\"type\":\"contourcarpet\"}],\"heatmap\":[{\"colorbar\":{\"outlinewidth\":0,\"ticks\":\"\"},\"colorscale\":[[0.0,\"#0d0887\"],[0.1111111111111111,\"#46039f\"],[0.2222222222222222,\"#7201a8\"],[0.3333333333333333,\"#9c179e\"],[0.4444444444444444,\"#bd3786\"],[0.5555555555555556,\"#d8576b\"],[0.6666666666666666,\"#ed7953\"],[0.7777777777777778,\"#fb9f3a\"],[0.8888888888888888,\"#fdca26\"],[1.0,\"#f0f921\"]],\"type\":\"heatmap\"}],\"heatmapgl\":[{\"colorbar\":{\"outlinewidth\":0,\"ticks\":\"\"},\"colorscale\":[[0.0,\"#0d0887\"],[0.1111111111111111,\"#46039f\"],[0.2222222222222222,\"#7201a8\"],[0.3333333333333333,\"#9c179e\"],[0.4444444444444444,\"#bd3786\"],[0.5555555555555556,\"#d8576b\"],[0.6666666666666666,\"#ed7953\"],[0.7777777777777778,\"#fb9f3a\"],[0.8888888888888888,\"#fdca26\"],[1.0,\"#f0f921\"]],\"type\":\"heatmapgl\"}],\"histogram\":[{\"marker\":{\"pattern\":{\"fillmode\":\"overlay\",\"size\":10,\"solidity\":0.2}},\"type\":\"histogram\"}],\"histogram2d\":[{\"colorbar\":{\"outlinewidth\":0,\"ticks\":\"\"},\"colorscale\":[[0.0,\"#0d0887\"],[0.1111111111111111,\"#46039f\"],[0.2222222222222222,\"#7201a8\"],[0.3333333333333333,\"#9c179e\"],[0.4444444444444444,\"#bd3786\"],[0.5555555555555556,\"#d8576b\"],[0.6666666666666666,\"#ed7953\"],[0.7777777777777778,\"#fb9f3a\"],[0.8888888888888888,\"#fdca26\"],[1.0,\"#f0f921\"]],\"type\":\"histogram2d\"}],\"histogram2dcontour\":[{\"colorbar\":{\"outlinewidth\":0,\"ticks\":\"\"},\"colorscale\":[[0.0,\"#0d0887\"],[0.1111111111111111,\"#46039f\"],[0.2222222222222222,\"#7201a8\"],[0.3333333333333333,\"#9c179e\"],[0.4444444444444444,\"#bd3786\"],[0.5555555555555556,\"#d8576b\"],[0.6666666666666666,\"#ed7953\"],[0.7777777777777778,\"#fb9f3a\"],[0.8888888888888888,\"#fdca26\"],[1.0,\"#f0f921\"]],\"type\":\"histogram2dcontour\"}],\"mesh3d\":[{\"colorbar\":{\"outlinewidth\":0,\"ticks\":\"\"},\"type\":\"mesh3d\"}],\"parcoords\":[{\"line\":{\"colorbar\":{\"outlinewidth\":0,\"ticks\":\"\"}},\"type\":\"parcoords\"}],\"pie\":[{\"automargin\":true,\"type\":\"pie\"}],\"scatter\":[{\"marker\":{\"colorbar\":{\"outlinewidth\":0,\"ticks\":\"\"}},\"type\":\"scatter\"}],\"scatter3d\":[{\"line\":{\"colorbar\":{\"outlinewidth\":0,\"ticks\":\"\"}},\"marker\":{\"colorbar\":{\"outlinewidth\":0,\"ticks\":\"\"}},\"type\":\"scatter3d\"}],\"scattercarpet\":[{\"marker\":{\"colorbar\":{\"outlinewidth\":0,\"ticks\":\"\"}},\"type\":\"scattercarpet\"}],\"scattergeo\":[{\"marker\":{\"colorbar\":{\"outlinewidth\":0,\"ticks\":\"\"}},\"type\":\"scattergeo\"}],\"scattergl\":[{\"marker\":{\"colorbar\":{\"outlinewidth\":0,\"ticks\":\"\"}},\"type\":\"scattergl\"}],\"scattermapbox\":[{\"marker\":{\"colorbar\":{\"outlinewidth\":0,\"ticks\":\"\"}},\"type\":\"scattermapbox\"}],\"scatterpolar\":[{\"marker\":{\"colorbar\":{\"outlinewidth\":0,\"ticks\":\"\"}},\"type\":\"scatterpolar\"}],\"scatterpolargl\":[{\"marker\":{\"colorbar\":{\"outlinewidth\":0,\"ticks\":\"\"}},\"type\":\"scatterpolargl\"}],\"scatterternary\":[{\"marker\":{\"colorbar\":{\"outlinewidth\":0,\"ticks\":\"\"}},\"type\":\"scatterternary\"}],\"surface\":[{\"colorbar\":{\"outlinewidth\":0,\"ticks\":\"\"},\"colorscale\":[[0.0,\"#0d0887\"],[0.1111111111111111,\"#46039f\"],[0.2222222222222222,\"#7201a8\"],[0.3333333333333333,\"#9c179e\"],[0.4444444444444444,\"#bd3786\"],[0.5555555555555556,\"#d8576b\"],[0.6666666666666666,\"#ed7953\"],[0.7777777777777778,\"#fb9f3a\"],[0.8888888888888888,\"#fdca26\"],[1.0,\"#f0f921\"]],\"type\":\"surface\"}],\"table\":[{\"cells\":{\"fill\":{\"color\":\"#EBF0F8\"},\"line\":{\"color\":\"white\"}},\"header\":{\"fill\":{\"color\":\"#C8D4E3\"},\"line\":{\"color\":\"white\"}},\"type\":\"table\"}]},\"layout\":{\"annotationdefaults\":{\"arrowcolor\":\"#2a3f5f\",\"arrowhead\":0,\"arrowwidth\":1},\"autotypenumbers\":\"strict\",\"coloraxis\":{\"colorbar\":{\"outlinewidth\":0,\"ticks\":\"\"}},\"colorscale\":{\"diverging\":[[0,\"#8e0152\"],[0.1,\"#c51b7d\"],[0.2,\"#de77ae\"],[0.3,\"#f1b6da\"],[0.4,\"#fde0ef\"],[0.5,\"#f7f7f7\"],[0.6,\"#e6f5d0\"],[0.7,\"#b8e186\"],[0.8,\"#7fbc41\"],[0.9,\"#4d9221\"],[1,\"#276419\"]],\"sequential\":[[0.0,\"#0d0887\"],[0.1111111111111111,\"#46039f\"],[0.2222222222222222,\"#7201a8\"],[0.3333333333333333,\"#9c179e\"],[0.4444444444444444,\"#bd3786\"],[0.5555555555555556,\"#d8576b\"],[0.6666666666666666,\"#ed7953\"],[0.7777777777777778,\"#fb9f3a\"],[0.8888888888888888,\"#fdca26\"],[1.0,\"#f0f921\"]],\"sequentialminus\":[[0.0,\"#0d0887\"],[0.1111111111111111,\"#46039f\"],[0.2222222222222222,\"#7201a8\"],[0.3333333333333333,\"#9c179e\"],[0.4444444444444444,\"#bd3786\"],[0.5555555555555556,\"#d8576b\"],[0.6666666666666666,\"#ed7953\"],[0.7777777777777778,\"#fb9f3a\"],[0.8888888888888888,\"#fdca26\"],[1.0,\"#f0f921\"]]},\"colorway\":[\"#636efa\",\"#EF553B\",\"#00cc96\",\"#ab63fa\",\"#FFA15A\",\"#19d3f3\",\"#FF6692\",\"#B6E880\",\"#FF97FF\",\"#FECB52\"],\"font\":{\"color\":\"#2a3f5f\"},\"geo\":{\"bgcolor\":\"white\",\"lakecolor\":\"white\",\"landcolor\":\"#E5ECF6\",\"showlakes\":true,\"showland\":true,\"subunitcolor\":\"white\"},\"hoverlabel\":{\"align\":\"left\"},\"hovermode\":\"closest\",\"mapbox\":{\"style\":\"light\"},\"paper_bgcolor\":\"white\",\"plot_bgcolor\":\"#E5ECF6\",\"polar\":{\"angularaxis\":{\"gridcolor\":\"white\",\"linecolor\":\"white\",\"ticks\":\"\"},\"bgcolor\":\"#E5ECF6\",\"radialaxis\":{\"gridcolor\":\"white\",\"linecolor\":\"white\",\"ticks\":\"\"}},\"scene\":{\"xaxis\":{\"backgroundcolor\":\"#E5ECF6\",\"gridcolor\":\"white\",\"gridwidth\":2,\"linecolor\":\"white\",\"showbackground\":true,\"ticks\":\"\",\"zerolinecolor\":\"white\"},\"yaxis\":{\"backgroundcolor\":\"#E5ECF6\",\"gridcolor\":\"white\",\"gridwidth\":2,\"linecolor\":\"white\",\"showbackground\":true,\"ticks\":\"\",\"zerolinecolor\":\"white\"},\"zaxis\":{\"backgroundcolor\":\"#E5ECF6\",\"gridcolor\":\"white\",\"gridwidth\":2,\"linecolor\":\"white\",\"showbackground\":true,\"ticks\":\"\",\"zerolinecolor\":\"white\"}},\"shapedefaults\":{\"line\":{\"color\":\"#2a3f5f\"}},\"ternary\":{\"aaxis\":{\"gridcolor\":\"white\",\"linecolor\":\"white\",\"ticks\":\"\"},\"baxis\":{\"gridcolor\":\"white\",\"linecolor\":\"white\",\"ticks\":\"\"},\"bgcolor\":\"#E5ECF6\",\"caxis\":{\"gridcolor\":\"white\",\"linecolor\":\"white\",\"ticks\":\"\"}},\"title\":{\"x\":0.05},\"xaxis\":{\"automargin\":true,\"gridcolor\":\"white\",\"linecolor\":\"white\",\"ticks\":\"\",\"title\":{\"standoff\":15},\"zerolinecolor\":\"white\",\"zerolinewidth\":2},\"yaxis\":{\"automargin\":true,\"gridcolor\":\"white\",\"linecolor\":\"white\",\"ticks\":\"\",\"title\":{\"standoff\":15},\"zerolinecolor\":\"white\",\"zerolinewidth\":2}}},\"xaxis\":{\"anchor\":\"y\",\"domain\":[0.0,1.0],\"title\":{\"text\":\"index\"}},\"yaxis\":{\"anchor\":\"x\",\"domain\":[0.0,1.0],\"title\":{\"text\":\"value\"}},\"legend\":{\"title\":{\"text\":\"variable\"},\"tracegroupgap\":0},\"margin\":{\"t\":60},\"barmode\":\"relative\"},                        {\"responsive\": true}                    ).then(function(){\n",
       "                            \n",
       "var gd = document.getElementById('48baf8ba-05bc-4920-9488-e9f33b8dddb1');\n",
       "var x = new MutationObserver(function (mutations, observer) {{\n",
       "        var display = window.getComputedStyle(gd).display;\n",
       "        if (!display || display === 'none') {{\n",
       "            console.log([gd, 'removed!']);\n",
       "            Plotly.purge(gd);\n",
       "            observer.disconnect();\n",
       "        }}\n",
       "}});\n",
       "\n",
       "// Listen for the removal of the full notebook cells\n",
       "var notebookContainer = gd.closest('#notebook-container');\n",
       "if (notebookContainer) {{\n",
       "    x.observe(notebookContainer, {childList: true});\n",
       "}}\n",
       "\n",
       "// Listen for the clearing of the current output cell\n",
       "var outputEl = gd.closest('.output');\n",
       "if (outputEl) {{\n",
       "    x.observe(outputEl, {childList: true});\n",
       "}}\n",
       "\n",
       "                        })                };                });            </script>        </div>"
      ]
     },
     "metadata": {},
     "output_type": "display_data"
    }
   ],
   "source": [
    "df_prod_mach[\"navn\"].value_counts().sort_index().plot(kind=\"bar\")"
   ]
  },
  {
   "cell_type": "code",
   "execution_count": null,
   "metadata": {},
   "outputs": [],
   "source": []
  },
  {
   "attachments": {},
   "cell_type": "markdown",
   "metadata": {},
   "source": [
    "### Findings from the periodic maintancence\n",
    "\n",
    "1. After 2018 the machines are maintained once a month\n",
    "2. there seem to a fairly equal distribution of perodic maintanece across the machines. meaning that all machines are mainted monthly\n"
   ]
  },
  {
   "cell_type": "code",
   "execution_count": 4,
   "metadata": {},
   "outputs": [
    {
     "data": {
      "text/html": [
       "<div>\n",
       "<style scoped>\n",
       "    .dataframe tbody tr th:only-of-type {\n",
       "        vertical-align: middle;\n",
       "    }\n",
       "\n",
       "    .dataframe tbody tr th {\n",
       "        vertical-align: top;\n",
       "    }\n",
       "\n",
       "    .dataframe thead th {\n",
       "        text-align: right;\n",
       "    }\n",
       "</style>\n",
       "<table border=\"1\" class=\"dataframe\">\n",
       "  <thead>\n",
       "    <tr style=\"text-align: right;\">\n",
       "      <th></th>\n",
       "      <th>registered_time</th>\n",
       "      <th>gruppe</th>\n",
       "      <th>navn</th>\n",
       "      <th>incidentTitle</th>\n",
       "      <th>utførtAv</th>\n",
       "      <th>utførtKommentar</th>\n",
       "    </tr>\n",
       "    <tr>\n",
       "      <th>utførtDato</th>\n",
       "      <th></th>\n",
       "      <th></th>\n",
       "      <th></th>\n",
       "      <th></th>\n",
       "      <th></th>\n",
       "      <th></th>\n",
       "    </tr>\n",
       "  </thead>\n",
       "  <tbody>\n",
       "    <tr>\n",
       "      <th>2019-06-16 19:08:06</th>\n",
       "      <td>2018-01-18 12:29:44</td>\n",
       "      <td>Maskiner</td>\n",
       "      <td>F4</td>\n",
       "      <td>Forma bør vedlikeholdes. Dårlig/ujevn kjøling</td>\n",
       "      <td>Svein Burø</td>\n",
       "      <td>NaN</td>\n",
       "    </tr>\n",
       "    <tr>\n",
       "      <th>2019-08-29 13:56:38</th>\n",
       "      <td>2018-01-18 14:24:36</td>\n",
       "      <td>Maskiner</td>\n",
       "      <td>H4</td>\n",
       "      <td>Stor damplekkasje må utbedres etter avsluttet ...</td>\n",
       "      <td>Geir Lervik</td>\n",
       "      <td>NaN</td>\n",
       "    </tr>\n",
       "    <tr>\n",
       "      <th>2019-01-04 12:37:52</th>\n",
       "      <td>2018-01-22 12:33:16</td>\n",
       "      <td>Maskiner</td>\n",
       "      <td>E4</td>\n",
       "      <td>Kondensatrør må skiftes</td>\n",
       "      <td>Arvid Ottem</td>\n",
       "      <td>NaN</td>\n",
       "    </tr>\n",
       "    <tr>\n",
       "      <th>2018-09-12 11:07:59</th>\n",
       "      <td>2018-02-06 08:11:09</td>\n",
       "      <td>Maskiner</td>\n",
       "      <td>E4</td>\n",
       "      <td>Utstøter tegninger må skiftes.</td>\n",
       "      <td>Donatas Norbutas</td>\n",
       "      <td>NaN</td>\n",
       "    </tr>\n",
       "    <tr>\n",
       "      <th>2018-10-02 07:43:31</th>\n",
       "      <td>2018-03-05 07:50:22</td>\n",
       "      <td>Maskiner</td>\n",
       "      <td>F5</td>\n",
       "      <td>Lekkasje avløp. Endre-jobb..</td>\n",
       "      <td>Johan Ølstørn</td>\n",
       "      <td>NaN</td>\n",
       "    </tr>\n",
       "  </tbody>\n",
       "</table>\n",
       "</div>"
      ],
      "text/plain": [
       "                         registered_time    gruppe navn  \\\n",
       "utførtDato                                                \n",
       "2019-06-16 19:08:06  2018-01-18 12:29:44  Maskiner   F4   \n",
       "2019-08-29 13:56:38  2018-01-18 14:24:36  Maskiner   H4   \n",
       "2019-01-04 12:37:52  2018-01-22 12:33:16  Maskiner   E4   \n",
       "2018-09-12 11:07:59  2018-02-06 08:11:09  Maskiner   E4   \n",
       "2018-10-02 07:43:31  2018-03-05 07:50:22  Maskiner   F5   \n",
       "\n",
       "                                                         incidentTitle  \\\n",
       "utførtDato                                                               \n",
       "2019-06-16 19:08:06      Forma bør vedlikeholdes. Dårlig/ujevn kjøling   \n",
       "2019-08-29 13:56:38  Stor damplekkasje må utbedres etter avsluttet ...   \n",
       "2019-01-04 12:37:52                            Kondensatrør må skiftes   \n",
       "2018-09-12 11:07:59                     Utstøter tegninger må skiftes.   \n",
       "2018-10-02 07:43:31                       Lekkasje avløp. Endre-jobb..   \n",
       "\n",
       "                             utførtAv utførtKommentar  \n",
       "utførtDato                                             \n",
       "2019-06-16 19:08:06        Svein Burø             NaN  \n",
       "2019-08-29 13:56:38       Geir Lervik             NaN  \n",
       "2019-01-04 12:37:52       Arvid Ottem             NaN  \n",
       "2018-09-12 11:07:59  Donatas Norbutas             NaN  \n",
       "2018-10-02 07:43:31     Johan Ølstørn             NaN  "
      ]
     },
     "execution_count": 4,
     "metadata": {},
     "output_type": "execute_result"
    }
   ],
   "source": [
    "df_oc = pd.read_excel(r\"C:\\Users\\Line\\OneDrive\\Dokumenter\\Master Business Analytics\\MSc Business Analytics\\01 - Master Thesis\\Data and model\\Data til Masteroppgave\\Løpende.xlsx\")\n",
    "df_oc = df_oc[df_oc[\"gruppe\"] ==\"Maskiner\"]\n",
    "df_oc = df_oc[df_oc[\"utførtDato\"].notna()]\n",
    "df_oc[\"utførtDato\"] = pd.to_datetime(df_oc[\"utførtDato\"])\n",
    "df_oc.set_index(\"utførtDato\",inplace=True)\n",
    "df_oc.head()"
   ]
  },
  {
   "cell_type": "code",
   "execution_count": 5,
   "metadata": {},
   "outputs": [],
   "source": [
    "B_machines = [\"B1\",\"B2\",\"B3\",\"B4\",\"B5\",\"B6\"]\n",
    "D_machines = [\"D1\",\"D2\",\"D3\",\"D4\",\"D5\"]\n",
    "E_machines = [\"E1\",\"E2\",\"E3\",\"E4\",\"E5\"]\n",
    "F_machines = [\"F1\",\"F2\",\"F3\",\"F4\",\"F5\"]\n",
    "K_machines = [\"K1\",\"K2\",\"K3\",\"K4\",\"K5\",\"K6\",\"K8\",\"K9\",\"K10\",\"K11\",\"K12\",\"K13\",\"K14\",\"K15\",\"K16\"]\n",
    "\n",
    "all_machines = B_machines + D_machines + E_machines + F_machines + K_machines"
   ]
  },
  {
   "cell_type": "code",
   "execution_count": 6,
   "metadata": {},
   "outputs": [],
   "source": [
    "df_oc = df_oc[df_oc[\"navn\"].isin(all_machines)]"
   ]
  },
  {
   "cell_type": "code",
   "execution_count": 7,
   "metadata": {},
   "outputs": [
    {
     "data": {
      "text/html": [
       "<div>\n",
       "<style scoped>\n",
       "    .dataframe tbody tr th:only-of-type {\n",
       "        vertical-align: middle;\n",
       "    }\n",
       "\n",
       "    .dataframe tbody tr th {\n",
       "        vertical-align: top;\n",
       "    }\n",
       "\n",
       "    .dataframe thead th {\n",
       "        text-align: right;\n",
       "    }\n",
       "</style>\n",
       "<table border=\"1\" class=\"dataframe\">\n",
       "  <thead>\n",
       "    <tr style=\"text-align: right;\">\n",
       "      <th></th>\n",
       "      <th>registered_time</th>\n",
       "      <th>gruppe</th>\n",
       "      <th>navn</th>\n",
       "      <th>incidentTitle</th>\n",
       "      <th>utførtAv</th>\n",
       "      <th>utførtKommentar</th>\n",
       "    </tr>\n",
       "    <tr>\n",
       "      <th>utførtDato</th>\n",
       "      <th></th>\n",
       "      <th></th>\n",
       "      <th></th>\n",
       "      <th></th>\n",
       "      <th></th>\n",
       "      <th></th>\n",
       "    </tr>\n",
       "  </thead>\n",
       "  <tbody>\n",
       "    <tr>\n",
       "      <th>2019-06-16 19:08:06</th>\n",
       "      <td>2018-01-18 12:29:44</td>\n",
       "      <td>Maskiner</td>\n",
       "      <td>F4</td>\n",
       "      <td>Forma bør vedlikeholdes. Dårlig/ujevn kjøling</td>\n",
       "      <td>Svein Burø</td>\n",
       "      <td>NaN</td>\n",
       "    </tr>\n",
       "    <tr>\n",
       "      <th>2019-01-04 12:37:52</th>\n",
       "      <td>2018-01-22 12:33:16</td>\n",
       "      <td>Maskiner</td>\n",
       "      <td>E4</td>\n",
       "      <td>Kondensatrør må skiftes</td>\n",
       "      <td>Arvid Ottem</td>\n",
       "      <td>NaN</td>\n",
       "    </tr>\n",
       "    <tr>\n",
       "      <th>2018-09-12 11:07:59</th>\n",
       "      <td>2018-02-06 08:11:09</td>\n",
       "      <td>Maskiner</td>\n",
       "      <td>E4</td>\n",
       "      <td>Utstøter tegninger må skiftes.</td>\n",
       "      <td>Donatas Norbutas</td>\n",
       "      <td>NaN</td>\n",
       "    </tr>\n",
       "    <tr>\n",
       "      <th>2018-10-02 07:43:31</th>\n",
       "      <td>2018-03-05 07:50:22</td>\n",
       "      <td>Maskiner</td>\n",
       "      <td>F5</td>\n",
       "      <td>Lekkasje avløp. Endre-jobb..</td>\n",
       "      <td>Johan Ølstørn</td>\n",
       "      <td>NaN</td>\n",
       "    </tr>\n",
       "    <tr>\n",
       "      <th>2018-08-30 12:53:09</th>\n",
       "      <td>2018-06-16 15:14:54</td>\n",
       "      <td>Maskiner</td>\n",
       "      <td>B1</td>\n",
       "      <td>Lekkasje vacum. må sveises.</td>\n",
       "      <td>Svein Burø</td>\n",
       "      <td>NaN</td>\n",
       "    </tr>\n",
       "  </tbody>\n",
       "</table>\n",
       "</div>"
      ],
      "text/plain": [
       "                         registered_time    gruppe navn  \\\n",
       "utførtDato                                                \n",
       "2019-06-16 19:08:06  2018-01-18 12:29:44  Maskiner   F4   \n",
       "2019-01-04 12:37:52  2018-01-22 12:33:16  Maskiner   E4   \n",
       "2018-09-12 11:07:59  2018-02-06 08:11:09  Maskiner   E4   \n",
       "2018-10-02 07:43:31  2018-03-05 07:50:22  Maskiner   F5   \n",
       "2018-08-30 12:53:09  2018-06-16 15:14:54  Maskiner   B1   \n",
       "\n",
       "                                                     incidentTitle  \\\n",
       "utførtDato                                                           \n",
       "2019-06-16 19:08:06  Forma bør vedlikeholdes. Dårlig/ujevn kjøling   \n",
       "2019-01-04 12:37:52                        Kondensatrør må skiftes   \n",
       "2018-09-12 11:07:59                 Utstøter tegninger må skiftes.   \n",
       "2018-10-02 07:43:31                   Lekkasje avløp. Endre-jobb..   \n",
       "2018-08-30 12:53:09                    Lekkasje vacum. må sveises.   \n",
       "\n",
       "                             utførtAv utførtKommentar  \n",
       "utførtDato                                             \n",
       "2019-06-16 19:08:06        Svein Burø             NaN  \n",
       "2019-01-04 12:37:52       Arvid Ottem             NaN  \n",
       "2018-09-12 11:07:59  Donatas Norbutas             NaN  \n",
       "2018-10-02 07:43:31     Johan Ølstørn             NaN  \n",
       "2018-08-30 12:53:09        Svein Burø             NaN  "
      ]
     },
     "execution_count": 7,
     "metadata": {},
     "output_type": "execute_result"
    }
   ],
   "source": [
    "df_oc.head()"
   ]
  }
 ],
 "metadata": {
  "kernelspec": {
   "display_name": "base",
   "language": "python",
   "name": "python3"
  },
  "language_info": {
   "codemirror_mode": {
    "name": "ipython",
    "version": 3
   },
   "file_extension": ".py",
   "mimetype": "text/x-python",
   "name": "python",
   "nbconvert_exporter": "python",
   "pygments_lexer": "ipython3",
   "version": "3.8.8"
  },
  "orig_nbformat": 4,
  "vscode": {
   "interpreter": {
    "hash": "6739df289e2ff9ab52d5dc00f4f2e7104998aeb2e2872f6bac0252f7ce60f2d8"
   }
  }
 },
 "nbformat": 4,
 "nbformat_minor": 2
}
